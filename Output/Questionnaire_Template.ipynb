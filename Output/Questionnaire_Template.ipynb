{
 "cells": [
  {
   "cell_type": "code",
   "execution_count": 4,
   "id": "1d7eab76",
   "metadata": {},
   "outputs": [],
   "source": [
    "import pandas as pd\n",
    "import numpy as np\n",
    "import ipywidgets as widgets\n",
    "from datetime import datetime"
   ]
  },
  {
   "cell_type": "code",
   "execution_count": 5,
   "id": "d8325f45",
   "metadata": {},
   "outputs": [],
   "source": [
    "# Definition of the buttons in the questionnaire\n",
    "\n",
    "next_button = widgets.Button(\n",
    "    description='Next'\n",
    ")\n",
    "\n",
    "submit_button = widgets.Button(\n",
    "    description='Submit'\n",
    ")\n",
    "\n",
    "output = widgets.Output()"
   ]
  },
  {
   "cell_type": "code",
   "execution_count": 6,
   "id": "bbf448c8",
   "metadata": {},
   "outputs": [],
   "source": [
    "# Warm-Up Section elements definition (radio buttons, dropdowns, etc)"
   ]
  },
  {
   "cell_type": "code",
   "execution_count": 7,
   "id": "bf8299f0",
   "metadata": {},
   "outputs": [],
   "source": [
    "#define N, the number of questions in the questionnaire\n",
    "N = 3\n",
    "questions_numbers = [n for n in range(N)] \n",
    "questions_datetime = []\n",
    "questions_representation = []"
   ]
  },
  {
   "cell_type": "code",
   "execution_count": 8,
   "id": "f99ad06f",
   "metadata": {},
   "outputs": [],
   "source": [
    "questions_selection = []\n",
    "for x in range(N):\n",
    "    questions_selection.append(widgets.RadioButtons(\n",
    "        options=[('Label 1', '1'), ('Label 2', '2'), ('Label 3', '3')],\n",
    "        value=None,\n",
    "        disabled=False\n",
    "    ))\n",
    "# Select the samples you want to use in your evaluation"
   ]
  },
  {
   "cell_type": "code",
   "execution_count": 9,
   "id": "3b0d6718",
   "metadata": {},
   "outputs": [],
   "source": [
    "# Preparation of the Participant information section\n",
    "\n",
    "gender_selection = widgets.RadioButtons(\n",
    "    options=[('Male', '1'), ('Female', '2'), ('Other', '3'), ('Prefer not to say', '4')],\n",
    "    value=None,\n",
    "    disabled=False\n",
    ")\n",
    "\n",
    "age_selection = widgets.RadioButtons(\n",
    "    options=[('18-20', '1'), ('21-29', '2'), ('30-39', '3'),('40-49', '4'),('50-59', '5'),('60 or older', '6')],\n",
    "    value=None,\n",
    "    disabled=False\n",
    ")\n",
    "\n",
    "education_selection = widgets.RadioButtons(\n",
    "    options=[('Less than high school degree', '1'), ('High school degree or equivalent', '2'), ('Undergraduate', '3'),('Graduate', '4')],\n",
    "    value=None,\n",
    "    disabled=False\n",
    ")\n",
    "\n",
    "english_level_selection = widgets.RadioButtons(\n",
    "    options=[('Beginner (A1)', '1'), ('Elementary (A2)', '2'), ('Lower Intermidiate (B1)', '3'), ('Upper Intermidiate (B2)', '4'), ('Advanced (C1)', '5'), ('Proficient (C2)', '6')],\n",
    "    value=None,\n",
    "    disabled=False\n",
    ")"
   ]
  },
  {
   "cell_type": "code",
   "execution_count": 10,
   "id": "b4346afa",
   "metadata": {},
   "outputs": [],
   "source": [
    "def welcomeWebPage():\n",
    "    output.clear_output()\n",
    "    with output:\n",
    "        display(widgets.HTML(value = '''<h1>Questionnaire Title</h1>'''))\n",
    "        display(widgets.HTML(value = '''<p>Description of the Questionnaire</p>'''))\n",
    "        display(widgets.HTML(value = '''<p>By clicking the next button, you partecipate to the questionnaire and confirm that:<br>\n",
    "        <ul>\n",
    "            <li> You have reached the age of majority </li>\n",
    "            <li> You acknowledge that your participation is completely voluntary </li>\n",
    "            <li> You acknowledge that your anonymous responses may be used for research purposes in accordance with General Data Protection Regulation </li>\n",
    "        </ul>\n",
    "        </p>'''))\n",
    "        display(next_button)\n",
    "    display(output)"
   ]
  },
  {
   "cell_type": "code",
   "execution_count": 11,
   "id": "cbcd9292",
   "metadata": {},
   "outputs": [],
   "source": [
    "def introductionWebPage():\n",
    "    \n",
    "    output.clear_output()\n",
    "    with output:\n",
    "        display(widgets.HTML(value = '''<h2>Introduction</h2>'''))\n",
    "        display(widgets.HTML(value = '''<p>Description of the domain of interest</p>'''))\n",
    "        display(widgets.HTML(value = '''<h3>XAI Explanation Section</h3>'''))\n",
    "        display(widgets.HTML(value = '''<p>Description of the XAI explanation</p>'''))\n",
    "        display(next_button)"
   ]
  },
  {
   "cell_type": "code",
   "execution_count": 12,
   "id": "8c4a9184",
   "metadata": {},
   "outputs": [],
   "source": [
    "def exampleWebPage():\n",
    "    output.clear_output()\n",
    "    with output:\n",
    "        display(widgets.HTML(value = '''<h2>Example</h2>'''))\n",
    "        # Provide an example in order to improve the user's understanding of the XAI explanation\n",
    "        display(next_button)"
   ]
  },
  {
   "cell_type": "code",
   "execution_count": 13,
   "id": "d902709e",
   "metadata": {},
   "outputs": [],
   "source": [
    "def warmUpWebPage():\n",
    "    output.clear_output()\n",
    "    with output:\n",
    "        display(widgets.HTML(value = '''<h2>Warm-Up</h2>'''))\n",
    "        # Test the user's mental model by asking some questions regarding the XAI explanation/domain of interest\n",
    "        display(next_button)"
   ]
  },
  {
   "cell_type": "code",
   "execution_count": 14,
   "id": "995de548",
   "metadata": {},
   "outputs": [],
   "source": [
    "def questionnaireInstructionWebPage():\n",
    "    output.clear_output()\n",
    "    with output:\n",
    "        display(widgets.HTML(value = '''<h2>Survey Instruction</h2>'''))\n",
    "        display(widgets.HTML(value = '''<p>Provide details on how the survey will be conducted</p>'''))\n",
    "        display(next_button)"
   ]
  },
  {
   "cell_type": "code",
   "execution_count": 15,
   "id": "149cf5b8",
   "metadata": {},
   "outputs": [],
   "source": [
    "def questionWebPage():\n",
    "    output.clear_output()\n",
    "    with output:\n",
    "        question_number = questions_numbers.pop(0)\n",
    "        display(widgets.HTML(value = '''<h2>Question %s</h2>'''%(str(question_number + 1))))\n",
    "        \n",
    "        # Question Details\n",
    "        # The forward simulation methodology requires an input and an explanations. \n",
    "        # The goal is to ask the user to predict the system's output given the input and the explanation of the system's output.\n",
    "        \n",
    "        # Input\n",
    "        display(widgets.HTML(value='''<p>Input of the sample</p>'''))\n",
    "        \n",
    "        # Explanation\n",
    "        display(widgets.HTML(value = '''<p>Explanation of the system's output</p>'''))\n",
    "        \n",
    "        display(widgets.HTML(value = '''<p>Which is the output of the system given the input and the explanation?</p>'''))\n",
    "        display(questions_selection[question_number])\n",
    "        display(next_button)\n",
    "    \n",
    "    # Datetime question displayed to the participant\n",
    "    questions_datetime.append(datetime.now())"
   ]
  },
  {
   "cell_type": "code",
   "execution_count": 16,
   "id": "6b32451d",
   "metadata": {},
   "outputs": [],
   "source": [
    "def participatInfoWebPage():\n",
    "    output.clear_output()\n",
    "    with output:\n",
    "        display(widgets.HTML(value = '''<h2>Information about the survey participant</h2>'''))\n",
    "        display(widgets.HTML(value = '''<p>We would like to collect some information about you to do a demographic analysis of the participants in our questionnaire.</p>'''))\n",
    "        display(widgets.HTML(value = '''<h3>Gender</h3>'''))\n",
    "        display(gender_selection)\n",
    "        display(widgets.HTML(value = '''<h3>Age</h3>'''))\n",
    "        display(age_selection)\n",
    "        display(widgets.HTML(value = '''<h3>Education</h3>'''))\n",
    "        display(education_selection)\n",
    "        display(widgets.HTML(value = '''<h3>English Level</h3>'''))\n",
    "        display(english_level_selection)\n",
    "        display(submit_button)\n",
    "        display(widgets.HTML(value = '''<p>NB: The sending of the answers could take a few seconds.</p>'''))"
   ]
  },
  {
   "cell_type": "code",
   "execution_count": 17,
   "id": "e5edbfd3",
   "metadata": {},
   "outputs": [],
   "source": [
    "def endquestionnaireWebPage():\n",
    "    output.clear_output()\n",
    "    with output:\n",
    "        display(widgets.HTML(value = '''<h2>The questionnaire is ended</h2>'''))\n",
    "        display(widgets.HTML(value = '''<p>The questionnaire was submitted correctly and you can now close the browser tab. <br>\n",
    "        Thank you very much for the partecipation.</p>'''))"
   ]
  },
  {
   "cell_type": "code",
   "execution_count": 18,
   "id": "f1e3b4d0",
   "metadata": {},
   "outputs": [],
   "source": [
    "web_pages_order = [introductionWebPage, exampleWebPage, warmUpWebPage, questionnaireInstructionWebPage, participatInfoWebPage, endquestionnaireWebPage]\n",
    "\n",
    "index_element = web_pages_order.index(questionnaireInstructionWebPage)\n",
    "\n",
    "for x in range(N):\n",
    "    web_pages_order.insert(index_element + 1, questionWebPage)"
   ]
  },
  {
   "cell_type": "code",
   "execution_count": 19,
   "id": "63b04d12",
   "metadata": {},
   "outputs": [],
   "source": [
    "web_pages = ['welcomeWebPage', 'introductionWebPage', 'exampleWebPage', 'warmUpWebPage', 'questionnaireInstructionWebPage', 'participatInfoWebPage', 'endquestionnaireWebPage']\n",
    "\n",
    "index_element = web_pages.index('questionnaireInstructionWebPage')\n",
    "\n",
    "for x in range(N):\n",
    "    web_pages.insert(index_element + 1, 'questionWebPage')"
   ]
  },
  {
   "cell_type": "code",
   "execution_count": 20,
   "id": "a4bc0058",
   "metadata": {},
   "outputs": [],
   "source": [
    "def next_clicked(b):\n",
    "    current_web_page = web_pages[0]\n",
    "\n",
    "    if current_web_page == 'warmUpWebPage':\n",
    "        # The Warm-Up section will have questions for measuring the user's mental mental\n",
    "        # Check if the questions are answered before continuing with the questionnaire\n",
    "        pass\n",
    "    elif current_web_page == 'questionWebPage':\n",
    "        # Each question section will have some questions that the user must answers \n",
    "        # Before continuing with the next questions section, check if the user answers all of the questions in the current section\n",
    "        pass\n",
    "        \n",
    "    web_pages.pop(0)\n",
    "    web_page = web_pages_order.pop(0)\n",
    "    web_page()\n",
    "\n",
    "def submit_clicked(b):\n",
    "    current_web_page = web_pages[0]\n",
    "    \n",
    "    if current_web_page == 'participatInfoWebPage':\n",
    "        if gender_selection.value == None or age_selection.value == None or education_selection.value == None or english_level_selection.value == None:\n",
    "            return\n",
    "    \n",
    "    # Store/Send the answers of the user\n",
    "    \n",
    "    web_pages.pop(0)\n",
    "    web_page = web_pages_order.pop(0)\n",
    "    web_page()\n",
    "    \n",
    "next_button.on_click(next_clicked)\n",
    "submit_button.on_click(submit_clicked)"
   ]
  },
  {
   "cell_type": "code",
   "execution_count": 21,
   "id": "642b5ace",
   "metadata": {},
   "outputs": [
    {
     "data": {
      "application/vnd.jupyter.widget-view+json": {
       "model_id": "dd4132ba9acd431d9f9f58e2dacd7e23",
       "version_major": 2,
       "version_minor": 0
      },
      "text/plain": [
       "Output()"
      ]
     },
     "metadata": {},
     "output_type": "display_data"
    }
   ],
   "source": [
    "welcomeWebPage()"
   ]
  }
 ],
 "metadata": {
  "kernelspec": {
   "display_name": "Python 3 (ipykernel)",
   "language": "python",
   "name": "python3"
  },
  "language_info": {
   "codemirror_mode": {
    "name": "ipython",
    "version": 3
   },
   "file_extension": ".py",
   "mimetype": "text/x-python",
   "name": "python",
   "nbconvert_exporter": "python",
   "pygments_lexer": "ipython3",
   "version": "3.10.2"
  }
 },
 "nbformat": 4,
 "nbformat_minor": 5
}
